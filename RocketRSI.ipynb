{
 "cells": [
  {
   "cell_type": "code",
   "execution_count": 1,
   "id": "61048d0a",
   "metadata": {},
   "outputs": [
    {
     "name": "stderr",
     "output_type": "stream",
     "text": [
      "/home/metalab_legion/.local/lib/python3.10/site-packages/pandas/core/arrays/masked.py:60: UserWarning: Pandas requires version '1.3.6' or newer of 'bottleneck' (version '1.3.2' currently installed).\n",
      "  from pandas.core import (\n",
      "/home/metalab_legion/.local/lib/python3.10/site-packages/matplotlib/projections/__init__.py:63: UserWarning: Unable to import Axes3D. This may be due to multiple versions of Matplotlib being installed (e.g. as a system package and as a pip package). As a result, the 3D projection is not available.\n",
      "  warnings.warn(\"Unable to import Axes3D. This may be due to multiple versions of \"\n"
     ]
    }
   ],
   "source": [
    "import yfinance as yf\n",
    "import pandas as pd\n",
    "import matplotlib.pyplot as plt\n",
    "import numpy as np\n",
    "from datetime import datetime, date"
   ]
  },
  {
   "cell_type": "code",
   "execution_count": 28,
   "id": "97887d13",
   "metadata": {},
   "outputs": [],
   "source": [
    "def rsi(prices, period=14):\n",
    "    \n",
    "    prices = np.array(prices)\n",
    "    rsi = np.zeros_like(prices)\n",
    "    \n",
    "    deltas = np.diff(prices)\n",
    "    prices_up = deltas*(np.sign(deltas) + 1)/2\n",
    "    prices_down = -deltas*(1 - np.sign(deltas))/2\n",
    "    \n",
    "    \n",
    "    for i in range(len(prices)):\n",
    "        \n",
    "        if i < period - 1:\n",
    "            \n",
    "            rsi[i] = np.nan\n",
    "            \n",
    "        else:\n",
    "            \n",
    "            rs = np.sum(prices_up[i - period+1:i+1])\n",
    "            rs /= np.sum(prices_down[i - period+1:i+1]) + 1e-10\n",
    "            rsi[i] = 100 - 100/(1+ rs)\n",
    "            \n",
    "    return rsi"
   ]
  },
  {
   "cell_type": "code",
   "execution_count": 30,
   "id": "3378cd8e",
   "metadata": {},
   "outputs": [],
   "source": [
    "def myrsi(prices, period=14):\n",
    "    \n",
    "    prices = np.array(prices)\n",
    "    myrsi = np.zeros_like(prices)\n",
    "    \n",
    "    deltas = np.diff(prices)\n",
    "    prices_up = deltas*(np.sign(deltas) + 1)/2\n",
    "    prices_down = -deltas*(1 - np.sign(deltas))/2\n",
    "    \n",
    "    \n",
    "    for i in range(len(prices)):\n",
    "        \n",
    "        if i < period - 1:\n",
    "            \n",
    "            myrsi[i] = np.nan\n",
    "            \n",
    "        else:\n",
    "            \n",
    "            CU = np.sum(prices_up[i - period+1:i+1])\n",
    "            CD = np.sum(prices_down[i - period+1:i+1]) \n",
    "            myrsi[i] = (CU - CD)/(CU + CD)\n",
    "            \n",
    "    return rsi    "
   ]
  },
  {
   "cell_type": "code",
   "execution_count": 16,
   "id": "1aab3256",
   "metadata": {},
   "outputs": [
    {
     "data": {
      "text/plain": [
       "array([ 1,  1,  1,  1,  1,  1,  1,  1,  1,  1,  1,  1, -1, -1, -1, -1, -2])"
      ]
     },
     "execution_count": 16,
     "metadata": {},
     "output_type": "execute_result"
    }
   ],
   "source": [
    "deltas"
   ]
  },
  {
   "cell_type": "code",
   "execution_count": 17,
   "id": "775c485d",
   "metadata": {},
   "outputs": [
    {
     "data": {
      "text/plain": [
       "array([1., 1., 1., 1., 1., 1., 1., 1., 1., 1., 1., 1., 0., 0., 0., 0., 0.])"
      ]
     },
     "execution_count": 17,
     "metadata": {},
     "output_type": "execute_result"
    }
   ],
   "source": [
    "prices_up"
   ]
  },
  {
   "cell_type": "code",
   "execution_count": 18,
   "id": "b3549153",
   "metadata": {},
   "outputs": [
    {
     "data": {
      "text/plain": [
       "array([0., 0., 0., 0., 0., 0., 0., 0., 0., 0., 0., 0., 1., 1., 1., 1., 2.])"
      ]
     },
     "execution_count": 18,
     "metadata": {},
     "output_type": "execute_result"
    }
   ],
   "source": [
    "prices_down"
   ]
  },
  {
   "cell_type": "code",
   "execution_count": 19,
   "id": "4a58bd4e",
   "metadata": {},
   "outputs": [
    {
     "data": {
      "text/plain": [
       "[1, 2]"
      ]
     },
     "execution_count": 19,
     "metadata": {},
     "output_type": "execute_result"
    }
   ],
   "source": [
    "a = [1,2,3]\n",
    "a[0:2]"
   ]
  },
  {
   "cell_type": "code",
   "execution_count": null,
   "id": "fbf3c5b0",
   "metadata": {},
   "outputs": [],
   "source": []
  }
 ],
 "metadata": {
  "kernelspec": {
   "display_name": "Python 3 (ipykernel)",
   "language": "python",
   "name": "python3"
  },
  "language_info": {
   "codemirror_mode": {
    "name": "ipython",
    "version": 3
   },
   "file_extension": ".py",
   "mimetype": "text/x-python",
   "name": "python",
   "nbconvert_exporter": "python",
   "pygments_lexer": "ipython3",
   "version": "3.10.12"
  }
 },
 "nbformat": 4,
 "nbformat_minor": 5
}
