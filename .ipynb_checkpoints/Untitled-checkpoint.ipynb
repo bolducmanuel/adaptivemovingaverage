{
 "cells": [
  {
   "cell_type": "code",
   "execution_count": 37,
   "id": "29bad358",
   "metadata": {},
   "outputs": [],
   "source": [
    "import yfinance as yf\n",
    "import pandas as pd\n",
    "import matplotlib.pyplot as plt\n",
    "import numpy as np\n",
    "from datetime import datetime, date"
   ]
  },
  {
   "cell_type": "code",
   "execution_count": 38,
   "id": "c5da83bf",
   "metadata": {},
   "outputs": [
    {
     "name": "stderr",
     "output_type": "stream",
     "text": [
      "[*********************100%%**********************]  1 of 1 completed\n"
     ]
    }
   ],
   "source": [
    "daily_ry = yf.download(\"RY.TO\", start = datetime(2024,1,1), end = date.today(), interval = '1d')"
   ]
  },
  {
   "cell_type": "code",
   "execution_count": 39,
   "id": "98068ddb",
   "metadata": {},
   "outputs": [
    {
     "data": {
      "text/html": [
       "<div>\n",
       "<style scoped>\n",
       "    .dataframe tbody tr th:only-of-type {\n",
       "        vertical-align: middle;\n",
       "    }\n",
       "\n",
       "    .dataframe tbody tr th {\n",
       "        vertical-align: top;\n",
       "    }\n",
       "\n",
       "    .dataframe thead th {\n",
       "        text-align: right;\n",
       "    }\n",
       "</style>\n",
       "<table border=\"1\" class=\"dataframe\">\n",
       "  <thead>\n",
       "    <tr style=\"text-align: right;\">\n",
       "      <th></th>\n",
       "      <th>Open</th>\n",
       "      <th>High</th>\n",
       "      <th>Low</th>\n",
       "      <th>Close</th>\n",
       "      <th>Adj Close</th>\n",
       "      <th>Volume</th>\n",
       "    </tr>\n",
       "    <tr>\n",
       "      <th>Date</th>\n",
       "      <th></th>\n",
       "      <th></th>\n",
       "      <th></th>\n",
       "      <th></th>\n",
       "      <th></th>\n",
       "      <th></th>\n",
       "    </tr>\n",
       "  </thead>\n",
       "  <tbody>\n",
       "    <tr>\n",
       "      <th>2024-01-02</th>\n",
       "      <td>133.360001</td>\n",
       "      <td>134.119995</td>\n",
       "      <td>133.179993</td>\n",
       "      <td>133.949997</td>\n",
       "      <td>128.937180</td>\n",
       "      <td>8608500</td>\n",
       "    </tr>\n",
       "    <tr>\n",
       "      <th>2024-01-03</th>\n",
       "      <td>133.570007</td>\n",
       "      <td>133.919998</td>\n",
       "      <td>132.779999</td>\n",
       "      <td>133.580002</td>\n",
       "      <td>128.581039</td>\n",
       "      <td>5352100</td>\n",
       "    </tr>\n",
       "    <tr>\n",
       "      <th>2024-01-04</th>\n",
       "      <td>133.550003</td>\n",
       "      <td>134.970001</td>\n",
       "      <td>133.490005</td>\n",
       "      <td>133.770004</td>\n",
       "      <td>128.763901</td>\n",
       "      <td>2113300</td>\n",
       "    </tr>\n",
       "    <tr>\n",
       "      <th>2024-01-05</th>\n",
       "      <td>133.940002</td>\n",
       "      <td>134.800003</td>\n",
       "      <td>133.559998</td>\n",
       "      <td>134.630005</td>\n",
       "      <td>129.591751</td>\n",
       "      <td>3482400</td>\n",
       "    </tr>\n",
       "    <tr>\n",
       "      <th>2024-01-08</th>\n",
       "      <td>134.300003</td>\n",
       "      <td>135.300003</td>\n",
       "      <td>134.160004</td>\n",
       "      <td>135.300003</td>\n",
       "      <td>130.236679</td>\n",
       "      <td>4469600</td>\n",
       "    </tr>\n",
       "    <tr>\n",
       "      <th>...</th>\n",
       "      <td>...</td>\n",
       "      <td>...</td>\n",
       "      <td>...</td>\n",
       "      <td>...</td>\n",
       "      <td>...</td>\n",
       "      <td>...</td>\n",
       "    </tr>\n",
       "    <tr>\n",
       "      <th>2024-10-28</th>\n",
       "      <td>170.220001</td>\n",
       "      <td>172.940002</td>\n",
       "      <td>170.220001</td>\n",
       "      <td>172.330002</td>\n",
       "      <td>172.330002</td>\n",
       "      <td>8207800</td>\n",
       "    </tr>\n",
       "    <tr>\n",
       "      <th>2024-10-29</th>\n",
       "      <td>172.000000</td>\n",
       "      <td>172.940002</td>\n",
       "      <td>171.179993</td>\n",
       "      <td>172.089996</td>\n",
       "      <td>172.089996</td>\n",
       "      <td>6831500</td>\n",
       "    </tr>\n",
       "    <tr>\n",
       "      <th>2024-10-30</th>\n",
       "      <td>171.509995</td>\n",
       "      <td>172.619995</td>\n",
       "      <td>171.080002</td>\n",
       "      <td>171.839996</td>\n",
       "      <td>171.839996</td>\n",
       "      <td>7331600</td>\n",
       "    </tr>\n",
       "    <tr>\n",
       "      <th>2024-10-31</th>\n",
       "      <td>171.160004</td>\n",
       "      <td>171.500000</td>\n",
       "      <td>168.190002</td>\n",
       "      <td>168.389999</td>\n",
       "      <td>168.389999</td>\n",
       "      <td>5372100</td>\n",
       "    </tr>\n",
       "    <tr>\n",
       "      <th>2024-11-01</th>\n",
       "      <td>169.000000</td>\n",
       "      <td>170.169998</td>\n",
       "      <td>168.589996</td>\n",
       "      <td>170.119995</td>\n",
       "      <td>170.119995</td>\n",
       "      <td>5059800</td>\n",
       "    </tr>\n",
       "  </tbody>\n",
       "</table>\n",
       "<p>212 rows × 6 columns</p>\n",
       "</div>"
      ],
      "text/plain": [
       "                  Open        High         Low       Close   Adj Close  \\\n",
       "Date                                                                     \n",
       "2024-01-02  133.360001  134.119995  133.179993  133.949997  128.937180   \n",
       "2024-01-03  133.570007  133.919998  132.779999  133.580002  128.581039   \n",
       "2024-01-04  133.550003  134.970001  133.490005  133.770004  128.763901   \n",
       "2024-01-05  133.940002  134.800003  133.559998  134.630005  129.591751   \n",
       "2024-01-08  134.300003  135.300003  134.160004  135.300003  130.236679   \n",
       "...                ...         ...         ...         ...         ...   \n",
       "2024-10-28  170.220001  172.940002  170.220001  172.330002  172.330002   \n",
       "2024-10-29  172.000000  172.940002  171.179993  172.089996  172.089996   \n",
       "2024-10-30  171.509995  172.619995  171.080002  171.839996  171.839996   \n",
       "2024-10-31  171.160004  171.500000  168.190002  168.389999  168.389999   \n",
       "2024-11-01  169.000000  170.169998  168.589996  170.119995  170.119995   \n",
       "\n",
       "             Volume  \n",
       "Date                 \n",
       "2024-01-02  8608500  \n",
       "2024-01-03  5352100  \n",
       "2024-01-04  2113300  \n",
       "2024-01-05  3482400  \n",
       "2024-01-08  4469600  \n",
       "...             ...  \n",
       "2024-10-28  8207800  \n",
       "2024-10-29  6831500  \n",
       "2024-10-30  7331600  \n",
       "2024-10-31  5372100  \n",
       "2024-11-01  5059800  \n",
       "\n",
       "[212 rows x 6 columns]"
      ]
     },
     "execution_count": 39,
     "metadata": {},
     "output_type": "execute_result"
    }
   ],
   "source": [
    "daily_ry"
   ]
  },
  {
   "cell_type": "code",
   "execution_count": 40,
   "id": "7125b043",
   "metadata": {},
   "outputs": [
    {
     "data": {
      "text/plain": [
       "[<matplotlib.lines.Line2D at 0x726f54168970>]"
      ]
     },
     "execution_count": 40,
     "metadata": {},
     "output_type": "execute_result"
    },
    {
     "data": {
      "image/png": "[encoded data removed]",
      "text/plain": [
       "<Figure size 432x288 with 1 Axes>"
      ]
     },
     "metadata": {
      "needs_background": "light"
     },
     "output_type": "display_data"
    }
   ],
   "source": [
    "plt.plot(daily_ry['Close'])"
   ]
  },
  {
   "cell_type": "code",
   "execution_count": 41,
   "id": "3872b954",
   "metadata": {},
   "outputs": [],
   "source": [
    "#définition d'un simple moving average sur un 1d array\n",
    "\n",
    "def SMA(price, window_size):\n",
    "    \n",
    "    sma = np.zeros_like(price)\n",
    "    \n",
    "    for i in range(len(price)):\n",
    "        \n",
    "        if i < window_size -1: \n",
    "            \n",
    "            sma[i] = np.nan\n",
    "        \n",
    "        else: \n",
    "            \n",
    "            sma[i] = np.sum(price[i - window_size+1:i+1])/window_size\n",
    "            \n",
    "    return sma\n",
    "\n",
    "#définition d'un exponential movind average sur un 1d array\n",
    "\n",
    "def EMA(price, window_size):\n",
    "    \n",
    "    ema = np.zeros_like(price)\n",
    "    \n",
    "    alpha = 2 /(window_size + 1)\n",
    "    \n",
    "    for i in range(window_size, len(price)):\n",
    "        \n",
    "        if np.isnan(price[i]) :\n",
    "            \n",
    "            continue\n",
    "        \n",
    "        else:\n",
    "            \n",
    "            ema[i] = alpha*price[i] + (1 - alpha)*ema[i-1]\n",
    "        \n",
    "        \n",
    "    ema[ema==0]=np.nan\n",
    "    \n",
    "    return ema\n",
    "\n",
    "            "
   ]
  },
  {
   "cell_type": "code",
   "execution_count": 58,
   "id": "5e367f81",
   "metadata": {},
   "outputs": [],
   "source": [
    "#obtained from https://machinelearning-basics.com/kama-indicator-in-python/\n",
    "def kama_indicator(price, period=10, period_fast=2, period_slow=30):\n",
    "   \n",
    "    #Efficiency Ratio\n",
    "    change = abs(price-price.shift(period))\n",
    "    volatility = (abs(price-price.shift())).rolling(period).sum()\n",
    "    er = change/volatility\n",
    "   \n",
    "    #Smoothing Constant\n",
    "    sc_fatest = 2/(period_fast + 1)\n",
    "    sc_slowest = 2/(period_slow + 1)\n",
    "    sc= (er * (sc_fatest - sc_slowest) + sc_slowest)**2\n",
    "   \n",
    "    #KAMA\n",
    "    kama=np.zeros_like(price)\n",
    "    kama[period-1] = price.iloc[period-1]\n",
    "\n",
    "    for i in range(period, len(price)):\n",
    "        kama[i] = kama[i-1] + sc.iloc[i] * (price.iloc[i] - kama[i-1])\n",
    "\n",
    "    kama[kama==0]=np.nan\n",
    "   \n",
    "    return kama"
   ]
  },
  {
   "cell_type": "code",
   "execution_count": 59,
   "id": "853a182d",
   "metadata": {},
   "outputs": [],
   "source": [
    "#génération de signal d'achat et de vente\n",
    "\n",
    "def buy_signal_fun(indicator):\n",
    "    buy_signal = np.zeros_like(indicator)\n",
    "\n",
    "    for i in range(len(indicator)):\n",
    "        if i-2 > 0:\n",
    "\n",
    "            if indicator[i - 1] < 0. and indicator[i] > 0.:\n",
    "                buy_signal[i] = 1\n",
    "\n",
    "            else:\n",
    "                buy_signal[i]=np.nan\n",
    "\n",
    "        else:\n",
    "                buy_signal[i]=np.nan\n",
    "\n",
    "    return buy_signal\n",
    "\n",
    "def sell_signal_fun(indicator):\n",
    "    sell_signal = np.zeros_like(indicator)\n",
    "\n",
    "\n",
    "    for i in range(len(indicator)):\n",
    "        if i-2 > 0:\n",
    "\n",
    "            if indicator[i-1] > 0. and indicator[i] < 0. :\n",
    "                sell_signal[i] = 1\n",
    "\n",
    "            else:\n",
    "                sell_signal[i]=np.nan\n",
    "\n",
    "        else:\n",
    "                sell_signal[i]=np.nan\n",
    "                \n",
    "    return sell_signal"
   ]
  },
  {
   "cell_type": "code",
   "execution_count": 60,
   "id": "8f697966",
   "metadata": {},
   "outputs": [],
   "source": [
    "#système de trading proposé par E. Miresco\n",
    "\n",
    "def miresco_method(indicator, offset):\n",
    "    kama = indicator\n",
    "\n",
    "    smooth_kama = SMA(kama, 2)\n",
    "    var = smooth_kama - np.roll(smooth_kama,2)\n",
    "\n",
    "    smooth_var = EMA(var, 2)\n",
    "    \n",
    "    smooth_var -= offset\n",
    "    \n",
    "    return smooth_var\n"
   ]
  },
  {
   "cell_type": "code",
   "execution_count": 61,
   "id": "5cd55a36",
   "metadata": {},
   "outputs": [],
   "source": [
    "def plot_show(signal, indicator, price, dates):\n",
    "    #buy signal et sell signals selon le système proposé\n",
    "\n",
    "    buy_signal = buy_signal_fun(signal)\n",
    "    sell_signal = sell_signal_fun(signal)\n",
    "\n",
    "    fig, ax = plt.subplots()\n",
    "\n",
    "    lowest_point = np.min(price)\n",
    "    max_point = np.max(price)\n",
    "    ax.plot(dates, indicator)\n",
    "    ax.plot(dates, price)\n",
    "    ax.plot(dates,buy_signal*price, '*g')\n",
    "    ax.plot(dates,sell_signal*price, '*r')\n",
    "    ax.fill_between(dates, lowest_point, max_point, where= signal >=0., facecolor = 'green', alpha = .2)\n",
    "    ax.fill_between(dates, lowest_point, max_point, where= signal <0.,  facecolor = 'red', alpha = .2)\n",
    "\n"
   ]
  },
  {
   "cell_type": "code",
   "execution_count": 65,
   "id": "fbe7f673",
   "metadata": {},
   "outputs": [
    {
     "name": "stdout",
     "output_type": "stream",
     "text": [
      "method returns: 10.158119400957055 %\n",
      "buy and hold returns 27.002612163493577 %\n"
     ]
    }
   ],
   "source": [
    "#calcul de rentabilité de la méthode vs buy and hold\n",
    "def returns_method(signal, price):\n",
    "    cash_amount = 0.\n",
    "    stock_amount = 1.\n",
    "    has_invested = False\n",
    "    \n",
    "    buy_signal = buy_signal_fun(signal)\n",
    "    sell_signal = sell_signal_fun(signal)\n",
    "\n",
    "    i = -1\n",
    "    while i < len(signal):\n",
    "\n",
    "        if not has_invested:\n",
    "\n",
    "            if buy_signal[i] == 1:\n",
    "\n",
    "                has_invested = True\n",
    "\n",
    "                initial_amount = price.iloc[i]\n",
    "                cash_amount = initial_amount\n",
    "\n",
    "        else:\n",
    "\n",
    "            if sell_signal[i] == 1:\n",
    "\n",
    "                cash_amount = stock_amount*price.iloc[i]\n",
    "\n",
    "            if buy_signal[i] == 1:\n",
    "\n",
    "                stock_amount = cash_amount/price.iloc[i]\n",
    "\n",
    "        i+= 1\n",
    "    \n",
    "    profit = 100*(cash_amount / initial_amount - 1)\n",
    "    buy_and_hold = 100*(price.iloc[i-1]/price.iloc[0] - 1)\n",
    "    print('method returns:', profit, '%')\n",
    "    print('buy and hold returns', buy_and_hold, '%')\n",
    "\n",
    "returns_method(signal, price)"
   ]
  },
  {
   "cell_type": "code",
   "execution_count": 88,
   "id": "3a634800",
   "metadata": {},
   "outputs": [
    {
     "name": "stderr",
     "output_type": "stream",
     "text": [
      "[*********************100%%**********************]  1 of 1 completed\n"
     ]
    },
    {
     "name": "stdout",
     "output_type": "stream",
     "text": [
      "method returns: -5.520621933865744 %\n",
      "buy and hold returns -0.19426610409977174 %\n"
     ]
    },
    {
     "data": {
      "image/png": "[encoded data removed]",
      "text/plain": [
       "<Figure size 432x288 with 1 Axes>"
      ]
     },
     "metadata": {
      "needs_background": "light"
     },
     "output_type": "display_data"
    }
   ],
   "source": [
    "# utilisation envisagée des fonctions\n",
    "daily_ry = yf.download(\"RY.TO\", start = datetime(2018,1,1), end = datetime(2020,1,1), interval = '1d')\n",
    "\n",
    "# définition des variables de base\n",
    "\n",
    "price = daily_ry['Close']\n",
    "dates = daily_ry.index\n",
    "\n",
    "\n",
    "# génération de signaux d'investissement\n",
    "indicator = kama_indicator(price, period = 21)\n",
    "signal = miresco_method(indicator, offset = 0.)\n",
    "plot_show(signal, indicator, price, dates)\n",
    "returns_method(signal, price)"
   ]
  },
  {
   "cell_type": "code",
   "execution_count": 29,
   "id": "d8baf756",
   "metadata": {},
   "outputs": [
    {
     "data": {
      "text/plain": [
       "<matplotlib.collections.PolyCollection at 0x726f54d186d0>"
      ]
     },
     "execution_count": 29,
     "metadata": {},
     "output_type": "execute_result"
    },
    {
     "data": {
      "image/png": "[encoded data removed]",
      "text/plain": [
       "<Figure size 432x288 with 1 Axes>"
      ]
     },
     "metadata": {
      "needs_background": "light"
     },
     "output_type": "display_data"
    }
   ],
   "source": [
    "#buy signal et sell signals selon le système proposé\n",
    "\n",
    "buy_signal = buy_signal_fun(smooth_var)\n",
    "sell_signal = sell_signal_fun(smooth_var)\n",
    "\n",
    "fig, ax = plt.subplots()\n",
    "\n",
    "lowest_point = np.min(daily_ry['Close'])\n",
    "max_point = np.max(daily_ry['Close'])\n",
    "ax.plot(daily_ry.index, kama)\n",
    "ax.plot(daily_ry.index, daily_ry['Close'])\n",
    "ax.plot(daily_ry.index,buy_signal*daily_ry['Close'], '*g')\n",
    "ax.plot(daily_ry.index,sell_signal*daily_ry['Close'], '*r')\n",
    "ax.fill_between(daily_ry.index, lowest_point, max_point, where= smooth_var >=0.2, facecolor = 'green', alpha = .2)\n",
    "ax.fill_between(daily_ry.index, lowest_point, max_point, where= smooth_var <0.2,  facecolor = 'red', alpha = .2)\n",
    "\n"
   ]
  },
  {
   "cell_type": "code",
   "execution_count": 25,
   "id": "25f90866",
   "metadata": {},
   "outputs": [
    {
     "name": "stdout",
     "output_type": "stream",
     "text": [
      "current money: 136.38999938964844 stock price: 136.38999938964844\n",
      "current money: 138.85000610351562 stock price: 138.85000610351562\n",
      "buying stocks: 1.0653725477845486 stock price: 130.3300018310547\n",
      "current money: 139.0843893645318 stock price: 130.5500030517578\n",
      "buying stocks: 1.0554286739482235 stock price: 131.77999877929688\n",
      "current money: 139.5593290468958 stock price: 132.22999572753906\n",
      "buying stocks: 1.1148692179794275 stock price: 125.18000030517578\n",
      "current money: 138.90155178528386 stock price: 124.58999633789062\n",
      "buying stocks: 1.0978624365375842 stock price: 126.5199966430664\n",
      "current money: 137.52922373961187 stock price: 125.2699966430664\n",
      "buying stocks: 1.0734407507104415 stock price: 128.1199951171875\n",
      "current money: 139.7190520435285 stock price: 130.16000366210938\n",
      "buying stocks: 1.136111955030705 stock price: 122.9800033569336\n",
      "current money: 138.62837693899425 stock price: 122.0199966430664\n",
      "buying stocks: 1.1228606671553856 stock price: 123.45999908447266\n",
      "current money: 135.68647890701823 stock price: 120.83999633789062\n",
      "buying stocks: 1.1820409253839832 stock price: 114.79000091552734\n",
      "current money: 140.26098053482661 stock price: 118.66000366210938\n",
      "buying stocks: 1.1408896839877292 stock price: 122.94000244140625\n",
      "current money: 153.59798372601838 stock price: 134.6300048828125\n",
      "buying stocks: 1.1352400610609066 stock price: 135.3000030517578\n",
      "current money: 150.07873260777413 stock price: 132.1999969482422\n",
      "buying stocks: 1.1343819285405534 stock price: 132.3000030517578\n",
      "current money: 148.853598047835 stock price: 131.22000122070312\n",
      "buying stocks: 1.120716683025605 stock price: 132.82000732421875\n",
      "current money: 150.26569491216665 stock price: 134.0800018310547\n",
      "buying stocks: 1.0801933308379625 stock price: 139.11000061035156\n",
      "current money: 146.53903121726412 stock price: 135.66000366210938\n",
      "buying stocks: 1.0742542869527705 stock price: 136.41000366210938\n",
      "current money: 144.10046939617186 stock price: 134.13999938964844\n",
      "buying stocks: 1.041338808436983 stock price: 138.3800048828125\n",
      "current money: 150.1089828803634 stock price: 144.14999389648438\n",
      "buying stocks: 1.0137019247988908 stock price: 148.0800018310547\n",
      "current money: 146.814451624767 stock price: 144.8300018310547\n",
      "buying stocks: 1.0108403061970213 stock price: 145.24000549316406\n",
      "current money: 153.1625275137484 stock price: 151.52000427246094\n",
      "buying stocks: 0.9927568623645955 stock price: 154.27999877929688\n",
      "current money: 147.88106888306785 stock price: 148.9600067138672\n",
      "buying stocks: 0.972645852494626 stock price: 152.0399932861328\n",
      "current money: 162.36376503305692 stock price: 166.92999267578125\n",
      "buying stocks: 0.9673723103889427 stock price: 167.83999633789062\n",
      "current money: 159.1714334565874 stock price: 164.5399932861328\n",
      "buying stocks: 0.934214279228749 stock price: 170.3800048828125\n",
      "current money: 159.9374817529661 stock price: 171.1999969482422\n"
     ]
    }
   ],
   "source": [
    "\n",
    "cash_amount = 0.\n",
    "stock_amount = 1.\n",
    "has_invested = False\n",
    "\n",
    "i = -1\n",
    "while i < len(smooth_var):\n",
    "    \n",
    "    if not has_invested:\n",
    "        \n",
    "        if buy_signal[i] == 1:\n",
    "            \n",
    "            has_invested = True\n",
    "            \n",
    "            cash_amount = daily_ry['Close'].iloc[i]\n",
    "            print('current money:' , cash_amount , 'stock price:' , daily_ry['Close'].iloc[i])\n",
    "    \n",
    "    else:\n",
    "        \n",
    "        if sell_signal[i] == 1:\n",
    "            \n",
    "            cash_amount = stock_amount*daily_ry['Close'].iloc[i]\n",
    "            print('current money:' , cash_amount , 'stock price:' , daily_ry['Close'].iloc[i])\n",
    "            \n",
    "        if buy_signal[i] == 1:\n",
    "            \n",
    "            stock_amount = cash_amount/daily_ry['Close'].iloc[i]\n",
    "            print('buying stocks:' , stock_amount , 'stock price:' , daily_ry['Close'].iloc[i])\n",
    "            \n",
    "    i+= 1\n",
    "            \n",
    "\n",
    "\n",
    "    \n",
    "    "
   ]
  },
  {
   "cell_type": "code",
   "execution_count": null,
   "id": "330e37ac",
   "metadata": {},
   "outputs": [],
   "source": []
  },
  {
   "cell_type": "code",
   "execution_count": null,
   "id": "5982671c",
   "metadata": {},
   "outputs": [],
   "source": []
  }
 ],
 "metadata": {
  "kernelspec": {
   "display_name": "Python 3 (ipykernel)",
   "language": "python",
   "name": "python3"
  },
  "language_info": {
   "codemirror_mode": {
    "name": "ipython",
    "version": 3
   },
   "file_extension": ".py",
   "mimetype": "text/x-python",
   "name": "python",
   "nbconvert_exporter": "python",
   "pygments_lexer": "ipython3",
   "version": "3.10.12"
  }
 },
 "nbformat": 4,
 "nbformat_minor": 5
}
