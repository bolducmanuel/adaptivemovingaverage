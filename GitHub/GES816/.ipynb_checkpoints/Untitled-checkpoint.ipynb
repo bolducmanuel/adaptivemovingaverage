{
 "cells": [
  {
   "cell_type": "code",
   "execution_count": 159,
   "id": "29bad358",
   "metadata": {},
   "outputs": [],
   "source": [
    "import yfinance as yf\n",
    "import pandas as pd\n",
    "import matplotlib.pyplot as plt\n",
    "import numpy as np\n",
    "from datetime import datetime, date"
   ]
  },
  {
   "cell_type": "code",
   "execution_count": 160,
   "id": "c5da83bf",
   "metadata": {},
   "outputs": [
    {
     "name": "stderr",
     "output_type": "stream",
     "text": [
      "[*********************100%%**********************]  1 of 1 completed\n"
     ]
    }
   ],
   "source": [
    "daily_ry = yf.download(\"RY.TO\", start = datetime(2024,1,1), end = date.today(), interval = '1d')"
   ]
  },
  {
   "cell_type": "code",
   "execution_count": 161,
   "id": "98068ddb",
   "metadata": {},
   "outputs": [
    {
     "data": {
      "text/html": [
       "<div>\n",
       "<style scoped>\n",
       "    .dataframe tbody tr th:only-of-type {\n",
       "        vertical-align: middle;\n",
       "    }\n",
       "\n",
       "    .dataframe tbody tr th {\n",
       "        vertical-align: top;\n",
       "    }\n",
       "\n",
       "    .dataframe thead th {\n",
       "        text-align: right;\n",
       "    }\n",
       "</style>\n",
       "<table border=\"1\" class=\"dataframe\">\n",
       "  <thead>\n",
       "    <tr style=\"text-align: right;\">\n",
       "      <th></th>\n",
       "      <th>Open</th>\n",
       "      <th>High</th>\n",
       "      <th>Low</th>\n",
       "      <th>Close</th>\n",
       "      <th>Adj Close</th>\n",
       "      <th>Volume</th>\n",
       "    </tr>\n",
       "    <tr>\n",
       "      <th>Date</th>\n",
       "      <th></th>\n",
       "      <th></th>\n",
       "      <th></th>\n",
       "      <th></th>\n",
       "      <th></th>\n",
       "      <th></th>\n",
       "    </tr>\n",
       "  </thead>\n",
       "  <tbody>\n",
       "    <tr>\n",
       "      <th>2024-01-02</th>\n",
       "      <td>133.360001</td>\n",
       "      <td>134.119995</td>\n",
       "      <td>133.179993</td>\n",
       "      <td>133.949997</td>\n",
       "      <td>130.002457</td>\n",
       "      <td>8608500</td>\n",
       "    </tr>\n",
       "    <tr>\n",
       "      <th>2024-01-03</th>\n",
       "      <td>133.570007</td>\n",
       "      <td>133.919998</td>\n",
       "      <td>132.779999</td>\n",
       "      <td>133.580002</td>\n",
       "      <td>129.643372</td>\n",
       "      <td>5352100</td>\n",
       "    </tr>\n",
       "    <tr>\n",
       "      <th>2024-01-04</th>\n",
       "      <td>133.550003</td>\n",
       "      <td>134.970001</td>\n",
       "      <td>133.490005</td>\n",
       "      <td>133.770004</td>\n",
       "      <td>129.827759</td>\n",
       "      <td>2113300</td>\n",
       "    </tr>\n",
       "    <tr>\n",
       "      <th>2024-01-05</th>\n",
       "      <td>133.940002</td>\n",
       "      <td>134.800003</td>\n",
       "      <td>133.559998</td>\n",
       "      <td>134.630005</td>\n",
       "      <td>130.662430</td>\n",
       "      <td>3482400</td>\n",
       "    </tr>\n",
       "    <tr>\n",
       "      <th>2024-01-08</th>\n",
       "      <td>134.300003</td>\n",
       "      <td>135.300003</td>\n",
       "      <td>134.160004</td>\n",
       "      <td>135.300003</td>\n",
       "      <td>131.312668</td>\n",
       "      <td>4469600</td>\n",
       "    </tr>\n",
       "    <tr>\n",
       "      <th>...</th>\n",
       "      <td>...</td>\n",
       "      <td>...</td>\n",
       "      <td>...</td>\n",
       "      <td>...</td>\n",
       "      <td>...</td>\n",
       "      <td>...</td>\n",
       "    </tr>\n",
       "    <tr>\n",
       "      <th>2024-09-30</th>\n",
       "      <td>167.360001</td>\n",
       "      <td>169.220001</td>\n",
       "      <td>167.309998</td>\n",
       "      <td>168.800003</td>\n",
       "      <td>168.800003</td>\n",
       "      <td>3450900</td>\n",
       "    </tr>\n",
       "    <tr>\n",
       "      <th>2024-10-01</th>\n",
       "      <td>168.679993</td>\n",
       "      <td>169.389999</td>\n",
       "      <td>166.080002</td>\n",
       "      <td>167.080002</td>\n",
       "      <td>167.080002</td>\n",
       "      <td>3651900</td>\n",
       "    </tr>\n",
       "    <tr>\n",
       "      <th>2024-10-02</th>\n",
       "      <td>167.000000</td>\n",
       "      <td>167.600006</td>\n",
       "      <td>165.679993</td>\n",
       "      <td>165.899994</td>\n",
       "      <td>165.899994</td>\n",
       "      <td>1914600</td>\n",
       "    </tr>\n",
       "    <tr>\n",
       "      <th>2024-10-03</th>\n",
       "      <td>165.619995</td>\n",
       "      <td>165.869995</td>\n",
       "      <td>163.809998</td>\n",
       "      <td>164.539993</td>\n",
       "      <td>164.539993</td>\n",
       "      <td>2695800</td>\n",
       "    </tr>\n",
       "    <tr>\n",
       "      <th>2024-10-04</th>\n",
       "      <td>165.440002</td>\n",
       "      <td>166.199997</td>\n",
       "      <td>165.110001</td>\n",
       "      <td>166.199997</td>\n",
       "      <td>166.199997</td>\n",
       "      <td>4613500</td>\n",
       "    </tr>\n",
       "  </tbody>\n",
       "</table>\n",
       "<p>193 rows × 6 columns</p>\n",
       "</div>"
      ],
      "text/plain": [
       "                  Open        High         Low       Close   Adj Close  \\\n",
       "Date                                                                     \n",
       "2024-01-02  133.360001  134.119995  133.179993  133.949997  130.002457   \n",
       "2024-01-03  133.570007  133.919998  132.779999  133.580002  129.643372   \n",
       "2024-01-04  133.550003  134.970001  133.490005  133.770004  129.827759   \n",
       "2024-01-05  133.940002  134.800003  133.559998  134.630005  130.662430   \n",
       "2024-01-08  134.300003  135.300003  134.160004  135.300003  131.312668   \n",
       "...                ...         ...         ...         ...         ...   \n",
       "2024-09-30  167.360001  169.220001  167.309998  168.800003  168.800003   \n",
       "2024-10-01  168.679993  169.389999  166.080002  167.080002  167.080002   \n",
       "2024-10-02  167.000000  167.600006  165.679993  165.899994  165.899994   \n",
       "2024-10-03  165.619995  165.869995  163.809998  164.539993  164.539993   \n",
       "2024-10-04  165.440002  166.199997  165.110001  166.199997  166.199997   \n",
       "\n",
       "             Volume  \n",
       "Date                 \n",
       "2024-01-02  8608500  \n",
       "2024-01-03  5352100  \n",
       "2024-01-04  2113300  \n",
       "2024-01-05  3482400  \n",
       "2024-01-08  4469600  \n",
       "...             ...  \n",
       "2024-09-30  3450900  \n",
       "2024-10-01  3651900  \n",
       "2024-10-02  1914600  \n",
       "2024-10-03  2695800  \n",
       "2024-10-04  4613500  \n",
       "\n",
       "[193 rows x 6 columns]"
      ]
     },
     "execution_count": 161,
     "metadata": {},
     "output_type": "execute_result"
    }
   ],
   "source": [
    "daily_ry"
   ]
  },
  {
   "cell_type": "code",
   "execution_count": 162,
   "id": "7125b043",
   "metadata": {},
   "outputs": [
    {
     "data": {
      "text/plain": [
       "[<matplotlib.lines.Line2D at 0x772c9393a530>]"
      ]
     },
     "execution_count": 162,
     "metadata": {},
     "output_type": "execute_result"
    },
    {
     "data": {
      "image/png": "[encoded data removed]",
      "text/plain": [
       "<Figure size 432x288 with 1 Axes>"
      ]
     },
     "metadata": {
      "needs_background": "light"
     },
     "output_type": "display_data"
    }
   ],
   "source": [
    "plt.plot(daily_ry['Close'])"
   ]
  },
  {
   "cell_type": "code",
   "execution_count": 163,
   "id": "3872b954",
   "metadata": {},
   "outputs": [],
   "source": [
    "#définition d'un simple moving average sur un 1d array\n",
    "\n",
    "def SMA(price, window_size):\n",
    "    \n",
    "    sma = np.zeros_like(price)\n",
    "    \n",
    "    for i in range(len(price)):\n",
    "        \n",
    "        if i < window_size -1: \n",
    "            \n",
    "            sma[i] = np.nan\n",
    "        \n",
    "        else: \n",
    "            \n",
    "            sma[i] = np.sum(price[i - window_size+1:i+1])/window_size\n",
    "            \n",
    "    return sma\n",
    "\n",
    "#définition d'un exponential movind average sur un 1d array\n",
    "\n",
    "def EMA(price, window_size):\n",
    "    \n",
    "    ema = np.zeros_like(price)\n",
    "    \n",
    "    alpha = 2 /(window_size + 1)\n",
    "    \n",
    "    for i in range(window_size, len(price)):\n",
    "        \n",
    "        if np.isnan(price[i]) :\n",
    "            \n",
    "            continue\n",
    "        \n",
    "        else:\n",
    "            \n",
    "            ema[i] = alpha*price[i] + (1 - alpha)*ema[i-1]\n",
    "        \n",
    "        \n",
    "    ema[ema==0]=np.nan\n",
    "    \n",
    "    return ema\n",
    "\n",
    "            "
   ]
  },
  {
   "cell_type": "code",
   "execution_count": 164,
   "id": "5e367f81",
   "metadata": {},
   "outputs": [],
   "source": [
    "#obtained from https://machinelearning-basics.com/kama-indicator-in-python/\n",
    "def kama_indicator(price, period=10, period_fast=2, period_slow=30):\n",
    "   \n",
    "    #Efficiency Ratio\n",
    "    change = abs(price-price.shift(period))\n",
    "    volatility = (abs(price-price.shift())).rolling(period).sum()\n",
    "    er = change/volatility\n",
    "   \n",
    "    #Smoothing Constant\n",
    "    sc_fatest = 2/(period_fast + 1)\n",
    "    sc_slowest = 2/(period_slow + 1)\n",
    "    sc= (er * (sc_fatest - sc_slowest) + sc_slowest)**2\n",
    "   \n",
    "    #KAMA\n",
    "    kama=np.zeros_like(price)\n",
    "    kama[period-1] = price.iloc[period-1]\n",
    "\n",
    "    for i in range(period, len(price)):\n",
    "        kama[i] = kama[i-1] + sc[i] * (price.iloc[i] - kama[i-1])\n",
    "\n",
    "    kama[kama==0]=np.nan\n",
    "   \n",
    "    return kama"
   ]
  },
  {
   "cell_type": "code",
   "execution_count": 165,
   "id": "853a182d",
   "metadata": {},
   "outputs": [],
   "source": [
    "#génération de signal d'achat et de vente\n",
    "\n",
    "def buy_signal_fun(indicator):\n",
    "    buy_signal = np.zeros_like(indicator)\n",
    "\n",
    "    for i in range(len(indicator)):\n",
    "        if i-2 > 0:\n",
    "\n",
    "            if indicator[i - 1] < 0.2 and indicator[i] > 0.2:\n",
    "                buy_signal[i] = 1\n",
    "\n",
    "            else:\n",
    "                buy_signal[i]=np.nan\n",
    "\n",
    "        else:\n",
    "                buy_signal[i]=np.nan\n",
    "\n",
    "    return buy_signal\n",
    "\n",
    "def sell_signal_fun(indicator):\n",
    "    sell_signal = np.zeros_like(indicator)\n",
    "\n",
    "\n",
    "    for i in range(len(indicator)):\n",
    "        if i-2 > 0:\n",
    "\n",
    "            if indicator[i-1] > 0.2 and indicator[i] < 0.2 :\n",
    "                sell_signal[i] = 1\n",
    "\n",
    "            else:\n",
    "                sell_signal[i]=np.nan\n",
    "\n",
    "        else:\n",
    "                sell_signal[i]=np.nan\n",
    "                \n",
    "    return sell_signal"
   ]
  },
  {
   "cell_type": "code",
   "execution_count": 170,
   "id": "5cd55a36",
   "metadata": {},
   "outputs": [
    {
     "name": "stderr",
     "output_type": "stream",
     "text": [
      "/tmp/ipykernel_27126/3573432527.py:19: FutureWarning: Series.__getitem__ treating keys as positions is deprecated. In a future version, integer keys will always be treated as labels (consistent with DataFrame behavior). To access a value by position, use `ser.iloc[pos]`\n",
      "  kama[i] = kama[i-1] + sc[i] * (price.iloc[i] - kama[i-1])\n"
     ]
    },
    {
     "data": {
      "text/plain": [
       "<matplotlib.collections.PolyCollection at 0x772c9379aaa0>"
      ]
     },
     "execution_count": 170,
     "metadata": {},
     "output_type": "execute_result"
    },
    {
     "data": {
      "image/png": "[encoded data removed]",
      "text/plain": [
       "<Figure size 432x288 with 1 Axes>"
      ]
     },
     "metadata": {
      "needs_background": "light"
     },
     "output_type": "display_data"
    }
   ],
   "source": [
    "#système de trading proposé par E. Miresco\n",
    "kama = kama_indicator(daily_ry['Close'], period = 21)\n",
    "\n",
    "smooth_kama = SMA(kama, 2)\n",
    "var = smooth_kama - np.roll(smooth_kama,2)\n",
    "\n",
    "smooth_var = EMA(var, 21)\n",
    "\n",
    "#buy signal et sell signals selon le système proposé\n",
    "\n",
    "buy_signal = buy_signal_fun(smooth_var)\n",
    "sell_signal = sell_signal_fun(smooth_var)\n",
    "\n",
    "fig, ax = plt.subplots()\n",
    "\n",
    "lowest_point = np.min(daily_ry['Close'])\n",
    "max_point = np.max(daily_ry['Close'])\n",
    "ax.plot(range(len(daily_ry.index)), kama)\n",
    "ax.plot(range(len(daily_ry.index)), daily_ry['Close'])\n",
    "ax.plot(range(len(daily_ry.index)),buy_signal*daily_ry['Close'], '*g')\n",
    "ax.plot(range(len(daily_ry.index)),sell_signal*daily_ry['Close'], '*r')\n",
    "ax.fill_between(range(len(daily_ry.index)), lowest_point, max_point, where= smooth_var >=0.2, facecolor = 'green', alpha = .2)\n",
    "ax.fill_between(range(len(daily_ry.index)), lowest_point, max_point, where= smooth_var <0.2,  facecolor = 'red', alpha = .2)\n",
    "\n"
   ]
  },
  {
   "cell_type": "code",
   "execution_count": 171,
   "id": "f392e61e",
   "metadata": {},
   "outputs": [
    {
     "data": {
      "text/plain": [
       "[<matplotlib.lines.Line2D at 0x772c9331ecb0>]"
      ]
     },
     "execution_count": 171,
     "metadata": {},
     "output_type": "execute_result"
    },
    {
     "data": {
      "image/png": "[encoded data removed]",
      "text/plain": [
       "<Figure size 432x288 with 1 Axes>"
      ]
     },
     "metadata": {
      "needs_background": "light"
     },
     "output_type": "display_data"
    }
   ],
   "source": [
    "plt.plot(smooth_var)"
   ]
  },
  {
   "cell_type": "code",
   "execution_count": 172,
   "id": "25f90866",
   "metadata": {},
   "outputs": [
    {
     "name": "stdout",
     "output_type": "stream",
     "text": [
      "current money: 139.9499969482422 stock price: 139.9499969482422\n",
      "current money: 133.52000427246094 stock price: 133.52000427246094\n",
      "buying stocks: 0.9303233019627297 stock price: 143.52000427246094\n",
      "current money: 134.6270912730937 stock price: 144.7100067138672\n",
      "buying stocks: 0.8881586597626773 stock price: 151.5800018310547\n",
      "current money: 136.57216090633005 stock price: 153.77000427246094\n",
      "buying stocks: 0.8495935359647282 stock price: 160.75\n"
     ]
    }
   ],
   "source": [
    "\n",
    "cash_amount = 0.\n",
    "stock_amount = 1.\n",
    "has_invested = False\n",
    "\n",
    "i = -1\n",
    "while i < len(kama_var):\n",
    "    \n",
    "    if not has_invested:\n",
    "        \n",
    "        if buy_signal[i] == 1:\n",
    "            \n",
    "            has_invested = True\n",
    "            \n",
    "            cash_amount = daily_ry['Close'].iloc[i]\n",
    "            print('current money:' , cash_amount , 'stock price:' , daily_ry['Close'].iloc[i])\n",
    "    \n",
    "    else:\n",
    "        \n",
    "        if sell_signal[i] == 1:\n",
    "            \n",
    "            cash_amount = stock_amount*daily_ry['Close'].iloc[i]\n",
    "            print('current money:' , cash_amount , 'stock price:' , daily_ry['Close'].iloc[i])\n",
    "            \n",
    "        if buy_signal[i] == 1:\n",
    "            \n",
    "            stock_amount = cash_amount/daily_ry['Close'].iloc[i]\n",
    "            print('buying stocks:' , stock_amount , 'stock price:' , daily_ry['Close'].iloc[i])\n",
    "            \n",
    "    i+= 1\n",
    "            \n",
    "\n",
    "\n",
    "    \n",
    "    "
   ]
  },
  {
   "cell_type": "code",
   "execution_count": null,
   "id": "330e37ac",
   "metadata": {},
   "outputs": [],
   "source": []
  }
 ],
 "metadata": {
  "kernelspec": {
   "display_name": "Python 3 (ipykernel)",
   "language": "python",
   "name": "python3"
  },
  "language_info": {
   "codemirror_mode": {
    "name": "ipython",
    "version": 3
   },
   "file_extension": ".py",
   "mimetype": "text/x-python",
   "name": "python",
   "nbconvert_exporter": "python",
   "pygments_lexer": "ipython3",
   "version": "3.10.12"
  }
 },
 "nbformat": 4,
 "nbformat_minor": 5
}
