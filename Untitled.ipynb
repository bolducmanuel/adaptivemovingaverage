{
 "cells": [
  {
   "cell_type": "code",
   "execution_count": 1,
   "id": "29bad358",
   "metadata": {},
   "outputs": [
    {
     "name": "stderr",
     "output_type": "stream",
     "text": [
      "/home/metalab_legion/.local/lib/python3.10/site-packages/pandas/core/arrays/masked.py:60: UserWarning: Pandas requires version '1.3.6' or newer of 'bottleneck' (version '1.3.2' currently installed).\n",
      "  from pandas.core import (\n",
      "/home/metalab_legion/.local/lib/python3.10/site-packages/matplotlib/projections/__init__.py:63: UserWarning: Unable to import Axes3D. This may be due to multiple versions of Matplotlib being installed (e.g. as a system package and as a pip package). As a result, the 3D projection is not available.\n",
      "  warnings.warn(\"Unable to import Axes3D. This may be due to multiple versions of \"\n"
     ]
    }
   ],
   "source": [
    "import yfinance as yf\n",
    "import pandas as pd\n",
    "import matplotlib.pyplot as plt\n",
    "import numpy as np\n",
    "from datetime import datetime, date"
   ]
  },
  {
   "cell_type": "code",
   "execution_count": 13,
   "id": "c5da83bf",
   "metadata": {},
   "outputs": [
    {
     "name": "stderr",
     "output_type": "stream",
     "text": [
      "[*********************100%%**********************]  1 of 1 completed\n"
     ]
    }
   ],
   "source": [
    "daily_ry = yf.download(\"SU.TO\", start = datetime(2024,1,1), end = date.today(), interval = '1d')"
   ]
  },
  {
   "cell_type": "code",
   "execution_count": 14,
   "id": "98068ddb",
   "metadata": {},
   "outputs": [
    {
     "data": {
      "text/html": [
       "<div>\n",
       "<style scoped>\n",
       "    .dataframe tbody tr th:only-of-type {\n",
       "        vertical-align: middle;\n",
       "    }\n",
       "\n",
       "    .dataframe tbody tr th {\n",
       "        vertical-align: top;\n",
       "    }\n",
       "\n",
       "    .dataframe thead th {\n",
       "        text-align: right;\n",
       "    }\n",
       "</style>\n",
       "<table border=\"1\" class=\"dataframe\">\n",
       "  <thead>\n",
       "    <tr style=\"text-align: right;\">\n",
       "      <th></th>\n",
       "      <th>Open</th>\n",
       "      <th>High</th>\n",
       "      <th>Low</th>\n",
       "      <th>Close</th>\n",
       "      <th>Adj Close</th>\n",
       "      <th>Volume</th>\n",
       "    </tr>\n",
       "    <tr>\n",
       "      <th>Date</th>\n",
       "      <th></th>\n",
       "      <th></th>\n",
       "      <th></th>\n",
       "      <th></th>\n",
       "      <th></th>\n",
       "      <th></th>\n",
       "    </tr>\n",
       "  </thead>\n",
       "  <tbody>\n",
       "    <tr>\n",
       "      <th>2024-01-02</th>\n",
       "      <td>42.889999</td>\n",
       "      <td>43.169998</td>\n",
       "      <td>42.610001</td>\n",
       "      <td>42.799999</td>\n",
       "      <td>41.440613</td>\n",
       "      <td>5881100</td>\n",
       "    </tr>\n",
       "    <tr>\n",
       "      <th>2024-01-03</th>\n",
       "      <td>43.570000</td>\n",
       "      <td>45.380001</td>\n",
       "      <td>43.509998</td>\n",
       "      <td>45.340000</td>\n",
       "      <td>43.899937</td>\n",
       "      <td>8643100</td>\n",
       "    </tr>\n",
       "    <tr>\n",
       "      <th>2024-01-04</th>\n",
       "      <td>45.709999</td>\n",
       "      <td>45.790001</td>\n",
       "      <td>44.799999</td>\n",
       "      <td>45.000000</td>\n",
       "      <td>43.570736</td>\n",
       "      <td>4866800</td>\n",
       "    </tr>\n",
       "    <tr>\n",
       "      <th>2024-01-05</th>\n",
       "      <td>45.500000</td>\n",
       "      <td>45.680000</td>\n",
       "      <td>44.930000</td>\n",
       "      <td>45.160000</td>\n",
       "      <td>43.725655</td>\n",
       "      <td>4147500</td>\n",
       "    </tr>\n",
       "    <tr>\n",
       "      <th>2024-01-08</th>\n",
       "      <td>44.250000</td>\n",
       "      <td>44.259998</td>\n",
       "      <td>43.660000</td>\n",
       "      <td>44.130001</td>\n",
       "      <td>42.728371</td>\n",
       "      <td>5486500</td>\n",
       "    </tr>\n",
       "    <tr>\n",
       "      <th>...</th>\n",
       "      <td>...</td>\n",
       "      <td>...</td>\n",
       "      <td>...</td>\n",
       "      <td>...</td>\n",
       "      <td>...</td>\n",
       "      <td>...</td>\n",
       "    </tr>\n",
       "    <tr>\n",
       "      <th>2024-09-30</th>\n",
       "      <td>49.590000</td>\n",
       "      <td>50.200001</td>\n",
       "      <td>49.470001</td>\n",
       "      <td>49.919998</td>\n",
       "      <td>49.919998</td>\n",
       "      <td>8430900</td>\n",
       "    </tr>\n",
       "    <tr>\n",
       "      <th>2024-10-01</th>\n",
       "      <td>49.590000</td>\n",
       "      <td>52.020000</td>\n",
       "      <td>49.470001</td>\n",
       "      <td>51.919998</td>\n",
       "      <td>51.919998</td>\n",
       "      <td>5659400</td>\n",
       "    </tr>\n",
       "    <tr>\n",
       "      <th>2024-10-02</th>\n",
       "      <td>52.880001</td>\n",
       "      <td>52.930000</td>\n",
       "      <td>51.610001</td>\n",
       "      <td>52.180000</td>\n",
       "      <td>52.180000</td>\n",
       "      <td>3099000</td>\n",
       "    </tr>\n",
       "    <tr>\n",
       "      <th>2024-10-03</th>\n",
       "      <td>52.500000</td>\n",
       "      <td>53.630001</td>\n",
       "      <td>52.020000</td>\n",
       "      <td>53.580002</td>\n",
       "      <td>53.580002</td>\n",
       "      <td>5150100</td>\n",
       "    </tr>\n",
       "    <tr>\n",
       "      <th>2024-10-04</th>\n",
       "      <td>53.919998</td>\n",
       "      <td>54.259998</td>\n",
       "      <td>53.250000</td>\n",
       "      <td>54.230000</td>\n",
       "      <td>54.230000</td>\n",
       "      <td>3609400</td>\n",
       "    </tr>\n",
       "  </tbody>\n",
       "</table>\n",
       "<p>193 rows × 6 columns</p>\n",
       "</div>"
      ],
      "text/plain": [
       "                 Open       High        Low      Close  Adj Close   Volume\n",
       "Date                                                                      \n",
       "2024-01-02  42.889999  43.169998  42.610001  42.799999  41.440613  5881100\n",
       "2024-01-03  43.570000  45.380001  43.509998  45.340000  43.899937  8643100\n",
       "2024-01-04  45.709999  45.790001  44.799999  45.000000  43.570736  4866800\n",
       "2024-01-05  45.500000  45.680000  44.930000  45.160000  43.725655  4147500\n",
       "2024-01-08  44.250000  44.259998  43.660000  44.130001  42.728371  5486500\n",
       "...               ...        ...        ...        ...        ...      ...\n",
       "2024-09-30  49.590000  50.200001  49.470001  49.919998  49.919998  8430900\n",
       "2024-10-01  49.590000  52.020000  49.470001  51.919998  51.919998  5659400\n",
       "2024-10-02  52.880001  52.930000  51.610001  52.180000  52.180000  3099000\n",
       "2024-10-03  52.500000  53.630001  52.020000  53.580002  53.580002  5150100\n",
       "2024-10-04  53.919998  54.259998  53.250000  54.230000  54.230000  3609400\n",
       "\n",
       "[193 rows x 6 columns]"
      ]
     },
     "execution_count": 14,
     "metadata": {},
     "output_type": "execute_result"
    }
   ],
   "source": [
    "daily_ry"
   ]
  },
  {
   "cell_type": "code",
   "execution_count": 15,
   "id": "7125b043",
   "metadata": {},
   "outputs": [
    {
     "data": {
      "text/plain": [
       "[<matplotlib.lines.Line2D at 0x79c79408d750>]"
      ]
     },
     "execution_count": 15,
     "metadata": {},
     "output_type": "execute_result"
    },
    {
     "data": {
      "image/png": "[encoded data removed]",
      "text/plain": [
       "<Figure size 432x288 with 1 Axes>"
      ]
     },
     "metadata": {
      "needs_background": "light"
     },
     "output_type": "display_data"
    }
   ],
   "source": [
    "plt.plot(daily_ry['Close'])"
   ]
  },
  {
   "cell_type": "code",
   "execution_count": 16,
   "id": "3872b954",
   "metadata": {},
   "outputs": [],
   "source": [
    "#définition d'un simple moving average sur un 1d array\n",
    "\n",
    "def SMA(price, window_size):\n",
    "    \n",
    "    sma = np.zeros_like(price)\n",
    "    \n",
    "    for i in range(len(price)):\n",
    "        \n",
    "        if i < window_size -1: \n",
    "            \n",
    "            sma[i] = np.nan\n",
    "        \n",
    "        else: \n",
    "            \n",
    "            sma[i] = np.sum(price[i - window_size+1:i+1])/window_size\n",
    "            \n",
    "    return sma\n",
    "\n",
    "#définition d'un exponential movind average sur un 1d array\n",
    "\n",
    "def EMA(price, window_size):\n",
    "    \n",
    "    ema = np.zeros_like(price)\n",
    "    \n",
    "    alpha = 2 /(window_size + 1)\n",
    "    \n",
    "    for i in range(window_size, len(price)):\n",
    "        \n",
    "        if np.isnan(price[i]) :\n",
    "            \n",
    "            continue\n",
    "        \n",
    "        else:\n",
    "            \n",
    "            ema[i] = alpha*price[i] + (1 - alpha)*ema[i-1]\n",
    "        \n",
    "        \n",
    "    ema[ema==0]=np.nan\n",
    "    \n",
    "    return ema\n",
    "\n",
    "            "
   ]
  },
  {
   "cell_type": "code",
   "execution_count": 17,
   "id": "5e367f81",
   "metadata": {},
   "outputs": [],
   "source": [
    "#obtained from https://machinelearning-basics.com/kama-indicator-in-python/\n",
    "def kama_indicator(price, period=10, period_fast=2, period_slow=30):\n",
    "   \n",
    "    #Efficiency Ratio\n",
    "    change = abs(price-price.shift(period))\n",
    "    volatility = (abs(price-price.shift())).rolling(period).sum()\n",
    "    er = change/volatility\n",
    "   \n",
    "    #Smoothing Constant\n",
    "    sc_fatest = 2/(period_fast + 1)\n",
    "    sc_slowest = 2/(period_slow + 1)\n",
    "    sc= (er * (sc_fatest - sc_slowest) + sc_slowest)**2\n",
    "   \n",
    "    #KAMA\n",
    "    kama=np.zeros_like(price)\n",
    "    kama[period-1] = price.iloc[period-1]\n",
    "\n",
    "    for i in range(period, len(price)):\n",
    "        kama[i] = kama[i-1] + sc[i] * (price.iloc[i] - kama[i-1])\n",
    "\n",
    "    kama[kama==0]=np.nan\n",
    "   \n",
    "    return kama"
   ]
  },
  {
   "cell_type": "code",
   "execution_count": 21,
   "id": "853a182d",
   "metadata": {},
   "outputs": [],
   "source": [
    "#génération de signal d'achat et de vente\n",
    "\n",
    "def buy_signal_fun(indicator):\n",
    "    buy_signal = np.zeros_like(indicator)\n",
    "\n",
    "    for i in range(len(indicator)):\n",
    "        if i-2 > 0:\n",
    "\n",
    "            if indicator[i - 1] < 0.25 and indicator[i] > 0.25:\n",
    "                buy_signal[i] = 1\n",
    "\n",
    "            else:\n",
    "                buy_signal[i]=np.nan\n",
    "\n",
    "        else:\n",
    "                buy_signal[i]=np.nan\n",
    "\n",
    "    return buy_signal\n",
    "\n",
    "def sell_signal_fun(indicator):\n",
    "    sell_signal = np.zeros_like(indicator)\n",
    "\n",
    "\n",
    "    for i in range(len(indicator)):\n",
    "        if i-2 > 0:\n",
    "\n",
    "            if indicator[i-1] > 0.25 and indicator[i] < 0.25 :\n",
    "                sell_signal[i] = 1\n",
    "\n",
    "            else:\n",
    "                sell_signal[i]=np.nan\n",
    "\n",
    "        else:\n",
    "                sell_signal[i]=np.nan\n",
    "                \n",
    "    return sell_signal"
   ]
  },
  {
   "cell_type": "code",
   "execution_count": 24,
   "id": "5cd55a36",
   "metadata": {},
   "outputs": [
    {
     "name": "stderr",
     "output_type": "stream",
     "text": [
      "/tmp/ipykernel_12475/3573432527.py:19: FutureWarning: Series.__getitem__ treating keys as positions is deprecated. In a future version, integer keys will always be treated as labels (consistent with DataFrame behavior). To access a value by position, use `ser.iloc[pos]`\n",
      "  kama[i] = kama[i-1] + sc[i] * (price.iloc[i] - kama[i-1])\n"
     ]
    },
    {
     "data": {
      "text/plain": [
       "<matplotlib.collections.PolyCollection at 0x79c778b6afb0>"
      ]
     },
     "execution_count": 24,
     "metadata": {},
     "output_type": "execute_result"
    },
    {
     "data": {
      "image/png": "[encoded data removed]",
      "text/plain": [
       "<Figure size 432x288 with 1 Axes>"
      ]
     },
     "metadata": {
      "needs_background": "light"
     },
     "output_type": "display_data"
    }
   ],
   "source": [
    "#système de trading proposé par E. Miresco\n",
    "kama = kama_indicator(daily_ry['Close'], period = 10)\n",
    "\n",
    "smooth_kama = SMA(kama, 2)\n",
    "var = smooth_kama - np.roll(smooth_kama,2)\n",
    "\n",
    "smooth_var = EMA(var, 2)\n",
    "\n",
    "#buy signal et sell signals selon le système proposé\n",
    "\n",
    "buy_signal = buy_signal_fun(smooth_var)\n",
    "sell_signal = sell_signal_fun(smooth_var)\n",
    "\n",
    "fig, ax = plt.subplots()\n",
    "\n",
    "lowest_point = np.min(daily_ry['Close'])\n",
    "max_point = np.max(daily_ry['Close'])\n",
    "ax.plot(range(len(daily_ry.index)), kama)\n",
    "ax.plot(range(len(daily_ry.index)), daily_ry['Close'])\n",
    "ax.plot(range(len(daily_ry.index)),buy_signal*daily_ry['Close'], '*g')\n",
    "ax.plot(range(len(daily_ry.index)),sell_signal*daily_ry['Close'], '*r')\n",
    "ax.fill_between(range(len(daily_ry.index)), lowest_point, max_point, where= smooth_var >=0.2, facecolor = 'green', alpha = .2)\n",
    "ax.fill_between(range(len(daily_ry.index)), lowest_point, max_point, where= smooth_var <0.2,  facecolor = 'red', alpha = .2)\n",
    "\n"
   ]
  },
  {
   "cell_type": "code",
   "execution_count": 20,
   "id": "f392e61e",
   "metadata": {},
   "outputs": [
    {
     "data": {
      "text/plain": [
       "[<matplotlib.lines.Line2D at 0x79c77dfb7f40>]"
      ]
     },
     "execution_count": 20,
     "metadata": {},
     "output_type": "execute_result"
    },
    {
     "data": {
      "image/png": "[encoded data removed]",
      "text/plain": [
       "<Figure size 432x288 with 1 Axes>"
      ]
     },
     "metadata": {
      "needs_background": "light"
     },
     "output_type": "display_data"
    }
   ],
   "source": [
    "plt.plot(smooth_var)"
   ]
  },
  {
   "cell_type": "code",
   "execution_count": 12,
   "id": "25f90866",
   "metadata": {},
   "outputs": [
    {
     "name": "stdout",
     "output_type": "stream",
     "text": [
      "current money: 134.8699951171875 stock price: 134.8699951171875\n",
      "current money: 134.0800018310547 stock price: 134.0800018310547\n",
      "buying stocks: 0.9912761147146016 stock price: 135.25999450683594\n",
      "current money: 133.89167207482436 stock price: 135.07000732421875\n",
      "buying stocks: 0.9567107895282171 stock price: 139.9499969482422\n",
      "current money: 129.14639473378335 stock price: 134.99000549316406\n",
      "buying stocks: 0.9281759041274756 stock price: 139.13999938964844\n",
      "current money: 133.7965509148395 stock price: 144.14999389648438\n",
      "buying stocks: 0.8980840028988342 stock price: 148.97999572753906\n",
      "current money: 132.12611412130067 stock price: 147.1199951171875\n",
      "buying stocks: 0.9071480924002282 stock price: 145.64999389648438\n",
      "current money: 137.45108283623736 stock price: 151.52000427246094\n",
      "buying stocks: 0.8960305626152145 stock price: 153.39999389648438\n",
      "current money: 149.4668559622693 stock price: 166.80999755859375\n"
     ]
    }
   ],
   "source": [
    "\n",
    "cash_amount = 0.\n",
    "stock_amount = 1.\n",
    "has_invested = False\n",
    "\n",
    "i = -1\n",
    "while i < len(smooth_var):\n",
    "    \n",
    "    if not has_invested:\n",
    "        \n",
    "        if buy_signal[i] == 1:\n",
    "            \n",
    "            has_invested = True\n",
    "            \n",
    "            cash_amount = daily_ry['Close'].iloc[i]\n",
    "            print('current money:' , cash_amount , 'stock price:' , daily_ry['Close'].iloc[i])\n",
    "    \n",
    "    else:\n",
    "        \n",
    "        if sell_signal[i] == 1:\n",
    "            \n",
    "            cash_amount = stock_amount*daily_ry['Close'].iloc[i]\n",
    "            print('current money:' , cash_amount , 'stock price:' , daily_ry['Close'].iloc[i])\n",
    "            \n",
    "        if buy_signal[i] == 1:\n",
    "            \n",
    "            stock_amount = cash_amount/daily_ry['Close'].iloc[i]\n",
    "            print('buying stocks:' , stock_amount , 'stock price:' , daily_ry['Close'].iloc[i])\n",
    "            \n",
    "    i+= 1\n",
    "            \n",
    "\n",
    "\n",
    "    \n",
    "    "
   ]
  },
  {
   "cell_type": "code",
   "execution_count": null,
   "id": "330e37ac",
   "metadata": {},
   "outputs": [],
   "source": []
  },
  {
   "cell_type": "code",
   "execution_count": null,
   "id": "5982671c",
   "metadata": {},
   "outputs": [],
   "source": []
  }
 ],
 "metadata": {
  "kernelspec": {
   "display_name": "Python 3 (ipykernel)",
   "language": "python",
   "name": "python3"
  },
  "language_info": {
   "codemirror_mode": {
    "name": "ipython",
    "version": 3
   },
   "file_extension": ".py",
   "mimetype": "text/x-python",
   "name": "python",
   "nbconvert_exporter": "python",
   "pygments_lexer": "ipython3",
   "version": "3.10.12"
  }
 },
 "nbformat": 4,
 "nbformat_minor": 5
}
